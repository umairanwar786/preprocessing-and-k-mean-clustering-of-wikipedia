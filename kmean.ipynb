{
 "cells": [
  {
   "cell_type": "code",
   "execution_count": null,
   "id": "d0059618",
   "metadata": {},
   "outputs": [],
   "source": [
    "import os\n",
    "folderpath = r\"C:\\Users\\user\\Downloads\\Compressed\\wiki\"\n",
    "filepaths = [os.path.join(folderpath, name) for name in os.listdir(folderpath)]\n",
    "all_files = []\n",
    "for path in filepaths:\n",
    "    with open(path, 'r', encoding = \"ISO-8859-1\") as f:\n",
    "        file = f.readlines()\n",
    "        all_files.append(file)"
   ]
  },
  {
   "cell_type": "code",
   "execution_count": null,
   "id": "771eb5f3",
   "metadata": {},
   "outputs": [],
   "source": [
    "all_files"
   ]
  },
  {
   "cell_type": "code",
   "execution_count": null,
   "id": "f09de0a1",
   "metadata": {},
   "outputs": [],
   "source": [
    "sizeOfmyfiles = len(all_files)\n",
    "print(sizeOfmyfiles)\n"
   ]
  },
  {
   "cell_type": "code",
   "execution_count": null,
   "id": "5a49bbb8",
   "metadata": {},
   "outputs": [],
   "source": [
    "listToStr =' '.join(map(str, all_files))\n"
   ]
  },
  {
   "cell_type": "code",
   "execution_count": null,
   "id": "fb182182",
   "metadata": {},
   "outputs": [],
   "source": [
    "listToStr\n"
   ]
  },
  {
   "cell_type": "code",
   "execution_count": null,
   "id": "abbd7ae9",
   "metadata": {},
   "outputs": [],
   "source": [
    "\n",
    "import nltk\n",
    "import nltk\n",
    "nltk.download('punkt')\n",
    "from nltk.corpus import stopwords\n",
    "nltk.download('stopwords')\n"
   ]
  },
  {
   "cell_type": "code",
   "execution_count": null,
   "id": "ad39847a",
   "metadata": {},
   "outputs": [],
   "source": []
  },
  {
   "cell_type": "code",
   "execution_count": null,
   "id": "f70ac66a",
   "metadata": {},
   "outputs": [],
   "source": [
    "from nltk.tokenize import word_tokenize\n"
   ]
  },
  {
   "cell_type": "code",
   "execution_count": null,
   "id": "f94ef2a4",
   "metadata": {
    "scrolled": false
   },
   "outputs": [],
   "source": [
    "listToStr\n"
   ]
  },
  {
   "cell_type": "code",
   "execution_count": null,
   "id": "801b4c89",
   "metadata": {},
   "outputs": [],
   "source": [
    "from nltk.tokenize import word_tokenize\n",
    "text = word_tokenize(listToStr)\n"
   ]
  },
  {
   "cell_type": "code",
   "execution_count": null,
   "id": "f235f231",
   "metadata": {},
   "outputs": [],
   "source": [
    "data = [word for word in text if not word in stopwords.words()]\n",
    "print(data)"
   ]
  },
  {
   "cell_type": "code",
   "execution_count": null,
   "id": "64789961",
   "metadata": {},
   "outputs": [],
   "source": [
    "\n",
    "nltk.download('wordnet')\n"
   ]
  },
  {
   "cell_type": "code",
   "execution_count": null,
   "id": "629b157f",
   "metadata": {},
   "outputs": [],
   "source": [
    "from nltk.stem import WordNetLemmatizer\n"
   ]
  },
  {
   "cell_type": "code",
   "execution_count": null,
   "id": "62191a0b",
   "metadata": {},
   "outputs": [],
   "source": [
    "lemma = WordNetLemmatizer()\n"
   ]
  },
  {
   "cell_type": "code",
   "execution_count": null,
   "id": "ca8136c1",
   "metadata": {},
   "outputs": [],
   "source": [
    "\n",
    "lem = []\n"
   ]
  },
  {
   "cell_type": "code",
   "execution_count": null,
   "id": "401f94e3",
   "metadata": {},
   "outputs": [],
   "source": [
    "nltk.download('omw-1.4')\n"
   ]
  },
  {
   "cell_type": "code",
   "execution_count": null,
   "id": "daf98b0e",
   "metadata": {},
   "outputs": [],
   "source": [
    "for r in data:\n",
    "    lem.append(lemma.lemmatize(r))\n"
   ]
  },
  {
   "cell_type": "code",
   "execution_count": null,
   "id": "8628ad71",
   "metadata": {},
   "outputs": [],
   "source": [
    "print(lemma.lemmatize('town'))\n"
   ]
  },
  {
   "cell_type": "code",
   "execution_count": null,
   "id": "accfa1c2",
   "metadata": {},
   "outputs": [],
   "source": [
    "import re\n",
    "dataupdate = []\n",
    "dataupdate = [re.sub('[^a-zA-Z0-9]', '', _) for _ in lem]\n",
    "dataupdate"
   ]
  },
  {
   "cell_type": "code",
   "execution_count": null,
   "id": "6c6c1679",
   "metadata": {},
   "outputs": [],
   "source": [
    "import sklearn\n",
    "from sklearn.feature_extraction.text import TfidfVectorizer\n",
    "from sklearn.cluster import KMeans\n",
    "from sklearn.metrics import adjusted_rand_score\n",
    "#import warnings filter\n",
    "from warnings import simplefilter\n",
    "#ignore all future warnings\n",
    "simplefilter(action = 'ignore', category = FutureWarning)\n",
    "\n",
    "\n",
    "vectorizer = TfidfVectorizer(stop_words = 'english')\n",
    "X = vectorizer.fit_transform(dataupdate)\n",
    "\n",
    "true_k = 5\n",
    "model = KMeans(n_clusters = true_k, init = 'k-means++', max_iter = 100, n_init = 1)\n",
    "model.fit(X)\n",
    "\n",
    "print(\"Top terms per cluster: \")\n",
    "order_centroids = model.cluster_centers_.argsort()[:, :: -1]\n",
    "terms = vectorizer.get_feature_names()\n",
    "\n",
    "for i in range(true_k):\n",
    "    print(\"Cluster %d : \" % i),\n",
    "    for ind in order_centroids[i, :10]:\n",
    "        print(' %s' % terms[ind]),"
   ]
  },
  {
   "cell_type": "code",
   "execution_count": null,
   "id": "a6047a8a",
   "metadata": {},
   "outputs": [],
   "source": [
    "print(\"Guessing : \")\n",
    "\n",
    "Y = vectorizer.transform([\"age\"])\n",
    "guessing = model.predict(Y)\n",
    "print(guessing)\n",
    "\n",
    "Y = vectorizer.transform([\"people\"])\n",
    "guessing = model.predict(Y)\n",
    "print(guessing)\n"
   ]
  },
  {
   "cell_type": "code",
   "execution_count": null,
   "id": "25bf6720",
   "metadata": {},
   "outputs": [],
   "source": []
  }
 ],
 "metadata": {
  "kernelspec": {
   "display_name": "Python 3 (ipykernel)",
   "language": "python",
   "name": "python3"
  },
  "language_info": {
   "codemirror_mode": {
    "name": "ipython",
    "version": 3
   },
   "file_extension": ".py",
   "mimetype": "text/x-python",
   "name": "python",
   "nbconvert_exporter": "python",
   "pygments_lexer": "ipython3",
   "version": "3.10.5"
  }
 },
 "nbformat": 4,
 "nbformat_minor": 5
}
